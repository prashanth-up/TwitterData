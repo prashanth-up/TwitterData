{
 "cells": [
  {
   "cell_type": "code",
   "execution_count": 1,
   "id": "1bffd271",
   "metadata": {},
   "outputs": [],
   "source": [
    "\n",
    "import torch\n",
    "from transformers import AutoTokenizer, AutoModel"
   ]
  },
  {
   "cell_type": "code",
   "execution_count": 2,
   "id": "b7d2deff",
   "metadata": {},
   "outputs": [
    {
     "name": "stderr",
     "output_type": "stream",
     "text": [
      "Some weights of the model checkpoint at model_outputs were not used when initializing BertModel: ['mlp.dense.weight', 'mlp.dense.bias']\n",
      "- This IS expected if you are initializing BertModel from the checkpoint of a model trained on another task or with another architecture (e.g. initializing a BertForSequenceClassification model from a BertForPreTraining model).\n",
      "- This IS NOT expected if you are initializing BertModel from the checkpoint of a model that you expect to be exactly identical (initializing a BertForSequenceClassification model from a BertForSequenceClassification model).\n"
     ]
    }
   ],
   "source": [
    "tokenizer = AutoTokenizer.from_pretrained(\"model_outputs\")\n",
    "model = AutoModel.from_pretrained(\"model_outputs\")\n"
   ]
  },
  {
   "cell_type": "code",
   "execution_count": 3,
   "id": "dc025825",
   "metadata": {},
   "outputs": [],
   "source": [
    "import random\n",
    "with open(\"data/tweets_validation.txt\", \"r\", encoding=\"utf-8\") as f:\n",
    "    lines = f.readlines()\n",
    "    random.shuffle(lines)\n",
    "    lines = lines[:20]\n",
    "\n",
    "\n"
   ]
  },
  {
   "cell_type": "code",
   "execution_count": 5,
   "id": "1c38e6a0",
   "metadata": {},
   "outputs": [],
   "source": [
    "inputs = tokenizer(lines, padding=True, truncation=True, return_tensors=\"pt\")\n"
   ]
  },
  {
   "cell_type": "code",
   "execution_count": 6,
   "id": "465bce99",
   "metadata": {},
   "outputs": [],
   "source": [
    "# Get the embeddings\n",
    "with torch.no_grad():\n",
    "    embeddings = model(**inputs, output_hidden_states=True, return_dict=True).pooler_output\n"
   ]
  },
  {
   "cell_type": "code",
   "execution_count": 13,
   "id": "20f66b08",
   "metadata": {},
   "outputs": [],
   "source": [
    "from scipy.spatial.distance import cosine\n",
    "\n",
    "# Cosine similarities are in [-1, 1]. Higher means more similar\n",
    "cosine_sim_0_1 = 1 - cosine(embeddings[7], embeddings[2])\n",
    "cosine_sim_0_2 = 1 - cosine(embeddings[8], embeddings[9])\n"
   ]
  },
  {
   "cell_type": "code",
   "execution_count": 14,
   "id": "d36b5291",
   "metadata": {},
   "outputs": [
    {
     "name": "stdout",
     "output_type": "stream",
     "text": [
      "Cosine similarity between \"Bidens decision is bad.\n",
      "\" and \"This is long overdue. Thank you, Biden, for pardoning those with marijuana convictions.\n",
      "\" is: 0.567\n",
      "Cosine similarity between \"What is Biden thinking? Pardoning those with marijuana convictions is a step in the wrong direction.\n",
      "\" and \"\"Biden's marijuana pardon, just before the elections, is just a distraction and freed nobody. Fedral prisons have no people for weed possession.\"\n",
      "\" is: 0.771\n"
     ]
    }
   ],
   "source": [
    "\n",
    "print(\"Cosine similarity between \\\"%s\\\" and \\\"%s\\\" is: %.3f\" % (lines[7], lines[2], cosine_sim_0_1))\n",
    "print(\"Cosine similarity between \\\"%s\\\" and \\\"%s\\\" is: %.3f\" % (lines[8], lines[9], cosine_sim_0_2))"
   ]
  },
  {
   "cell_type": "code",
   "execution_count": null,
   "id": "174c1e14",
   "metadata": {},
   "outputs": [],
   "source": []
  }
 ],
 "metadata": {
  "kernelspec": {
   "display_name": "Python 3.7.9 64-bit",
   "language": "python",
   "name": "python3"
  },
  "language_info": {
   "codemirror_mode": {
    "name": "ipython",
    "version": 3
   },
   "file_extension": ".py",
   "mimetype": "text/x-python",
   "name": "python",
   "nbconvert_exporter": "python",
   "pygments_lexer": "ipython3",
   "version": "3.7.9"
  },
  "vscode": {
   "interpreter": {
    "hash": "02418857f5d32a53ef91ff98546c618c8728919934297a5ef59c1f31cb466cf3"
   }
  }
 },
 "nbformat": 4,
 "nbformat_minor": 5
}
