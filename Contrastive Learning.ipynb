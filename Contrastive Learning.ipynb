{
 "cells": [
  {
   "cell_type": "code",
   "execution_count": 6,
   "id": "1bffd271",
   "metadata": {},
   "outputs": [],
   "source": [
    "\n",
    "import torch\n",
    "from transformers import AutoTokenizer, AutoModel"
   ]
  },
  {
   "cell_type": "code",
   "execution_count": 8,
   "id": "b7d2deff",
   "metadata": {},
   "outputs": [
    {
     "name": "stderr",
     "output_type": "stream",
     "text": [
      "Some weights of the model checkpoint at model_outputs were not used when initializing BertModel: ['mlp.dense.bias', 'mlp.dense.weight']\n",
      "- This IS expected if you are initializing BertModel from the checkpoint of a model trained on another task or with another architecture (e.g. initializing a BertForSequenceClassification model from a BertForPreTraining model).\n",
      "- This IS NOT expected if you are initializing BertModel from the checkpoint of a model that you expect to be exactly identical (initializing a BertForSequenceClassification model from a BertForSequenceClassification model).\n"
     ]
    }
   ],
   "source": [
    "tokenizer = AutoTokenizer.from_pretrained(\"model_outputs\")\n",
    "model = AutoModel.from_pretrained(\"model_outputs\")\n"
   ]
  },
  {
   "cell_type": "code",
   "execution_count": 20,
   "id": "dc025825",
   "metadata": {},
   "outputs": [],
   "source": [
    "import random\n",
    "with open(\"data/tweets_validation.txt\", \"r\", encoding=\"utf-8\") as f:\n",
    "    lines = f.readlines()\n",
    "    random.shuffle(lines)\n",
    "    lines = lines[:20]"
   ]
  },
  {
   "cell_type": "code",
   "execution_count": 21,
   "id": "1c38e6a0",
   "metadata": {},
   "outputs": [],
   "source": [
    "inputs = tokenizer(lines, padding=True, truncation=True, return_tensors=\"pt\")\n"
   ]
  },
  {
   "cell_type": "code",
   "execution_count": 22,
   "id": "465bce99",
   "metadata": {},
   "outputs": [],
   "source": [
    "# Get the embeddings\n",
    "with torch.no_grad():\n",
    "    embeddings = model(**inputs, output_hidden_states=True, return_dict=True).pooler_output\n"
   ]
  },
  {
   "cell_type": "code",
   "execution_count": 30,
   "id": "20f66b08",
   "metadata": {},
   "outputs": [
    {
     "name": "stdout",
     "output_type": "stream",
     "text": [
      "Tweet: Biden's pardon of those with marijuana convictions is a step in the right direction.\n",
      "\n",
      "Cosine Distance to Disagreeing with Biden: 0.09536749124526978\n",
      "Cosine Distance to Agreeing with Biden: 0.19815152883529663\n",
      "----------------------------------------------------------------------------------\n",
      "Tweet: \"Bidens decision is bad, as always.\"\n",
      "\n",
      "Cosine Distance to Disagreeing with Biden: 0.15487909317016602\n",
      "Cosine Distance to Agreeing with Biden: 0.0\n",
      "----------------------------------------------------------------------------------\n",
      "Tweet: Biden now saying marijuana is legal despite federal law saying it's not? This Executive over reaches and surpasses the state's Legislative authority.\n",
      "\n",
      "Cosine Distance to Disagreeing with Biden: 0.24441707134246826\n",
      "Cosine Distance to Agreeing with Biden: 0.35730046033859253\n",
      "----------------------------------------------------------------------------------\n",
      "Tweet: \"PARDON!! Marijuana has many medicinal benefits, which is why 38 states have implemented a medical cannabis program. Cannabis can aid in pain relief. LEGALISE WEED!\"\n",
      "\n",
      "Cosine Distance to Disagreeing with Biden: 0.08398616313934326\n",
      "Cosine Distance to Agreeing with Biden: 0.24192065000534058\n",
      "----------------------------------------------------------------------------------\n",
      "Tweet: \"Biden's marijuana pardon, just before the elections, is just a distraction and freed nobody. Fedral prisons have no people for weed possession.\"\n",
      "\n",
      "Cosine Distance to Disagreeing with Biden: 0.1673625111579895\n",
      "Cosine Distance to Agreeing with Biden: 0.2008407711982727\n",
      "----------------------------------------------------------------------------------\n"
     ]
    }
   ],
   "source": [
    "from scipy.spatial.distance import cosine\n",
    "\n",
    "# choose a few random tweets\n",
    "indices = random.sample(range(len(lines)), 5)\n",
    "\n",
    "for i in indices:\n",
    "    print(\"Tweet:\", lines[i])\n",
    "    # print(\"Embedding:\", embeddings[i])\n",
    "    print(\"Cosine Distance to Disagreeing with Biden:\", cosine(embeddings[i], embeddings[0]))\n",
    "    print(\"Cosine Distance to Agreeing with Biden:\", cosine(embeddings[i], embeddings[1]))\n",
    "    print(\"----------------------------------------------------------------------------------\")\n"
   ]
  },
  {
   "cell_type": "code",
   "execution_count": null,
   "id": "3e17a494",
   "metadata": {},
   "outputs": [],
   "source": []
  }
 ],
 "metadata": {
  "kernelspec": {
   "display_name": "Python 3.7.9 64-bit",
   "language": "python",
   "name": "python3"
  },
  "language_info": {
   "codemirror_mode": {
    "name": "ipython",
    "version": 3
   },
   "file_extension": ".py",
   "mimetype": "text/x-python",
   "name": "python",
   "nbconvert_exporter": "python",
   "pygments_lexer": "ipython3",
   "version": "3.7.9"
  },
  "vscode": {
   "interpreter": {
    "hash": "02418857f5d32a53ef91ff98546c618c8728919934297a5ef59c1f31cb466cf3"
   }
  }
 },
 "nbformat": 4,
 "nbformat_minor": 5
}
